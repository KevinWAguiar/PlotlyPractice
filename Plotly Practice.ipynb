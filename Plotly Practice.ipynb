{
 "cells": [
  {
   "cell_type": "code",
   "execution_count": 153,
   "metadata": {},
   "outputs": [
    {
     "data": {
      "text/html": [
       "<script type=\"text/javascript\">window.PlotlyConfig = {MathJaxConfig: 'local'};</script><script type=\"text/javascript\">if (window.MathJax) {MathJax.Hub.Config({SVG: {font: \"STIX-Web\"}});}</script><script>requirejs.config({paths: { 'plotly': ['https://cdn.plot.ly/plotly-latest.min']},});if(!window._Plotly) {require(['plotly'],function(plotly) {window._Plotly=plotly;});}</script>"
      ],
      "text/vnd.plotly.v1+html": [
       "<script type=\"text/javascript\">window.PlotlyConfig = {MathJaxConfig: 'local'};</script><script type=\"text/javascript\">if (window.MathJax) {MathJax.Hub.Config({SVG: {font: \"STIX-Web\"}});}</script><script>requirejs.config({paths: { 'plotly': ['https://cdn.plot.ly/plotly-latest.min']},});if(!window._Plotly) {require(['plotly'],function(plotly) {window._Plotly=plotly;});}</script>"
      ]
     },
     "metadata": {},
     "output_type": "display_data"
    },
    {
     "data": {
      "text/html": [
       "<script type=\"text/javascript\">window.PlotlyConfig = {MathJaxConfig: 'local'};</script><script type=\"text/javascript\">if (window.MathJax) {MathJax.Hub.Config({SVG: {font: \"STIX-Web\"}});}</script><script>requirejs.config({paths: { 'plotly': ['https://cdn.plot.ly/plotly-latest.min']},});if(!window._Plotly) {require(['plotly'],function(plotly) {window._Plotly=plotly;});}</script>"
      ],
      "text/vnd.plotly.v1+html": [
       "<script type=\"text/javascript\">window.PlotlyConfig = {MathJaxConfig: 'local'};</script><script type=\"text/javascript\">if (window.MathJax) {MathJax.Hub.Config({SVG: {font: \"STIX-Web\"}});}</script><script>requirejs.config({paths: { 'plotly': ['https://cdn.plot.ly/plotly-latest.min']},});if(!window._Plotly) {require(['plotly'],function(plotly) {window._Plotly=plotly;});}</script>"
      ]
     },
     "metadata": {},
     "output_type": "display_data"
    }
   ],
   "source": [
    "import pandas as pd\n",
    "import numpy as np\n",
    "import plotly.plotly as py\n",
    "import plotly.graph_objs as go\n",
    "\n",
    "from plotly.offline import iplot, init_notebook_mode\n",
    "import cufflinks\n",
    "cufflinks.go_offline(connected=True)\n",
    "init_notebook_mode(connected=True)\n",
    "\n",
    "from datetime import datetime"
   ]
  },
  {
   "cell_type": "markdown",
   "metadata": {},
   "source": [
    "## Import Data into DataFrame"
   ]
  },
  {
   "cell_type": "code",
   "execution_count": 154,
   "metadata": {},
   "outputs": [],
   "source": [
    "df = pd.read_csv('advertising-and-sales-data-36-co.csv')"
   ]
  },
  {
   "cell_type": "code",
   "execution_count": 155,
   "metadata": {},
   "outputs": [
    {
     "data": {
      "text/html": [
       "<div>\n",
       "<style scoped>\n",
       "    .dataframe tbody tr th:only-of-type {\n",
       "        vertical-align: middle;\n",
       "    }\n",
       "\n",
       "    .dataframe tbody tr th {\n",
       "        vertical-align: top;\n",
       "    }\n",
       "\n",
       "    .dataframe thead th {\n",
       "        text-align: right;\n",
       "    }\n",
       "</style>\n",
       "<table border=\"1\" class=\"dataframe\">\n",
       "  <thead>\n",
       "    <tr style=\"text-align: right;\">\n",
       "      <th></th>\n",
       "      <th>Month</th>\n",
       "      <th>Advertising</th>\n",
       "      <th>Sales</th>\n",
       "    </tr>\n",
       "  </thead>\n",
       "  <tbody>\n",
       "    <tr>\n",
       "      <th>0</th>\n",
       "      <td>1-01</td>\n",
       "      <td>12.0</td>\n",
       "      <td>15.0</td>\n",
       "    </tr>\n",
       "    <tr>\n",
       "      <th>1</th>\n",
       "      <td>1-02</td>\n",
       "      <td>20.5</td>\n",
       "      <td>16.0</td>\n",
       "    </tr>\n",
       "    <tr>\n",
       "      <th>2</th>\n",
       "      <td>1-03</td>\n",
       "      <td>21.0</td>\n",
       "      <td>18.0</td>\n",
       "    </tr>\n",
       "    <tr>\n",
       "      <th>3</th>\n",
       "      <td>1-04</td>\n",
       "      <td>15.5</td>\n",
       "      <td>27.0</td>\n",
       "    </tr>\n",
       "    <tr>\n",
       "      <th>4</th>\n",
       "      <td>1-05</td>\n",
       "      <td>15.3</td>\n",
       "      <td>21.0</td>\n",
       "    </tr>\n",
       "  </tbody>\n",
       "</table>\n",
       "</div>"
      ],
      "text/plain": [
       "  Month  Advertising  Sales\n",
       "0  1-01         12.0   15.0\n",
       "1  1-02         20.5   16.0\n",
       "2  1-03         21.0   18.0\n",
       "3  1-04         15.5   27.0\n",
       "4  1-05         15.3   21.0"
      ]
     },
     "execution_count": 155,
     "metadata": {},
     "output_type": "execute_result"
    }
   ],
   "source": [
    "df.head()"
   ]
  },
  {
   "cell_type": "markdown",
   "metadata": {},
   "source": [
    "## Rename column from Sales to Converstion (more relevant to website usage)"
   ]
  },
  {
   "cell_type": "code",
   "execution_count": 157,
   "metadata": {},
   "outputs": [],
   "source": [
    "df.rename(columns={'Sales': 'Conversions'}, inplace=True)"
   ]
  },
  {
   "cell_type": "markdown",
   "metadata": {},
   "source": [
    "## Reformat the 'Month' column to include year (so that x axis would be more descriptive instead of just whole integers)"
   ]
  },
  {
   "cell_type": "code",
   "execution_count": 159,
   "metadata": {
    "scrolled": true
   },
   "outputs": [],
   "source": [
    "df['Month_date'] = df['Month'].apply(lambda x: x[2:] + '-01')"
   ]
  },
  {
   "cell_type": "code",
   "execution_count": 160,
   "metadata": {},
   "outputs": [],
   "source": [
    "df['Month_date'][0:12] = df['Month_date'][0:12].apply(lambda x: x + '-2016')\n",
    "df['Month_date'][12:24] = df['Month_date'][12:24].apply(lambda x: x + '-2017')\n",
    "df['Month_date'][24:] = df['Month_date'][24:].apply(lambda x: x + '-2018')"
   ]
  },
  {
   "cell_type": "markdown",
   "metadata": {},
   "source": [
    "## Take a peak at df"
   ]
  },
  {
   "cell_type": "code",
   "execution_count": 161,
   "metadata": {
    "collapsed": true
   },
   "outputs": [
    {
     "data": {
      "text/html": [
       "<div>\n",
       "<style scoped>\n",
       "    .dataframe tbody tr th:only-of-type {\n",
       "        vertical-align: middle;\n",
       "    }\n",
       "\n",
       "    .dataframe tbody tr th {\n",
       "        vertical-align: top;\n",
       "    }\n",
       "\n",
       "    .dataframe thead th {\n",
       "        text-align: right;\n",
       "    }\n",
       "</style>\n",
       "<table border=\"1\" class=\"dataframe\">\n",
       "  <thead>\n",
       "    <tr style=\"text-align: right;\">\n",
       "      <th></th>\n",
       "      <th>Month</th>\n",
       "      <th>Advertising</th>\n",
       "      <th>Conversions</th>\n",
       "      <th>Month_date</th>\n",
       "    </tr>\n",
       "  </thead>\n",
       "  <tbody>\n",
       "    <tr>\n",
       "      <th>0</th>\n",
       "      <td>1-01</td>\n",
       "      <td>12.0</td>\n",
       "      <td>15.0</td>\n",
       "      <td>01-01-2016</td>\n",
       "    </tr>\n",
       "    <tr>\n",
       "      <th>1</th>\n",
       "      <td>1-02</td>\n",
       "      <td>20.5</td>\n",
       "      <td>16.0</td>\n",
       "      <td>02-01-2016</td>\n",
       "    </tr>\n",
       "    <tr>\n",
       "      <th>2</th>\n",
       "      <td>1-03</td>\n",
       "      <td>21.0</td>\n",
       "      <td>18.0</td>\n",
       "      <td>03-01-2016</td>\n",
       "    </tr>\n",
       "    <tr>\n",
       "      <th>3</th>\n",
       "      <td>1-04</td>\n",
       "      <td>15.5</td>\n",
       "      <td>27.0</td>\n",
       "      <td>04-01-2016</td>\n",
       "    </tr>\n",
       "    <tr>\n",
       "      <th>4</th>\n",
       "      <td>1-05</td>\n",
       "      <td>15.3</td>\n",
       "      <td>21.0</td>\n",
       "      <td>05-01-2016</td>\n",
       "    </tr>\n",
       "    <tr>\n",
       "      <th>5</th>\n",
       "      <td>1-06</td>\n",
       "      <td>23.5</td>\n",
       "      <td>49.0</td>\n",
       "      <td>06-01-2016</td>\n",
       "    </tr>\n",
       "    <tr>\n",
       "      <th>6</th>\n",
       "      <td>1-07</td>\n",
       "      <td>24.5</td>\n",
       "      <td>21.0</td>\n",
       "      <td>07-01-2016</td>\n",
       "    </tr>\n",
       "    <tr>\n",
       "      <th>7</th>\n",
       "      <td>1-08</td>\n",
       "      <td>21.3</td>\n",
       "      <td>22.0</td>\n",
       "      <td>08-01-2016</td>\n",
       "    </tr>\n",
       "    <tr>\n",
       "      <th>8</th>\n",
       "      <td>1-09</td>\n",
       "      <td>23.5</td>\n",
       "      <td>28.0</td>\n",
       "      <td>09-01-2016</td>\n",
       "    </tr>\n",
       "    <tr>\n",
       "      <th>9</th>\n",
       "      <td>1-10</td>\n",
       "      <td>28.0</td>\n",
       "      <td>36.0</td>\n",
       "      <td>10-01-2016</td>\n",
       "    </tr>\n",
       "    <tr>\n",
       "      <th>10</th>\n",
       "      <td>1-11</td>\n",
       "      <td>24.0</td>\n",
       "      <td>40.0</td>\n",
       "      <td>11-01-2016</td>\n",
       "    </tr>\n",
       "    <tr>\n",
       "      <th>11</th>\n",
       "      <td>1-12</td>\n",
       "      <td>15.5</td>\n",
       "      <td>3.0</td>\n",
       "      <td>12-01-2016</td>\n",
       "    </tr>\n",
       "    <tr>\n",
       "      <th>12</th>\n",
       "      <td>2-01</td>\n",
       "      <td>17.3</td>\n",
       "      <td>21.0</td>\n",
       "      <td>01-01-2017</td>\n",
       "    </tr>\n",
       "    <tr>\n",
       "      <th>13</th>\n",
       "      <td>2-02</td>\n",
       "      <td>25.3</td>\n",
       "      <td>29.0</td>\n",
       "      <td>02-01-2017</td>\n",
       "    </tr>\n",
       "    <tr>\n",
       "      <th>14</th>\n",
       "      <td>2-03</td>\n",
       "      <td>25.0</td>\n",
       "      <td>62.0</td>\n",
       "      <td>03-01-2017</td>\n",
       "    </tr>\n",
       "    <tr>\n",
       "      <th>15</th>\n",
       "      <td>2-04</td>\n",
       "      <td>36.5</td>\n",
       "      <td>65.0</td>\n",
       "      <td>04-01-2017</td>\n",
       "    </tr>\n",
       "    <tr>\n",
       "      <th>16</th>\n",
       "      <td>2-05</td>\n",
       "      <td>36.5</td>\n",
       "      <td>46.0</td>\n",
       "      <td>05-01-2017</td>\n",
       "    </tr>\n",
       "    <tr>\n",
       "      <th>17</th>\n",
       "      <td>2-06</td>\n",
       "      <td>29.6</td>\n",
       "      <td>44.0</td>\n",
       "      <td>06-01-2017</td>\n",
       "    </tr>\n",
       "    <tr>\n",
       "      <th>18</th>\n",
       "      <td>2-07</td>\n",
       "      <td>30.5</td>\n",
       "      <td>33.0</td>\n",
       "      <td>07-01-2017</td>\n",
       "    </tr>\n",
       "    <tr>\n",
       "      <th>19</th>\n",
       "      <td>2-08</td>\n",
       "      <td>28.0</td>\n",
       "      <td>62.0</td>\n",
       "      <td>08-01-2017</td>\n",
       "    </tr>\n",
       "    <tr>\n",
       "      <th>20</th>\n",
       "      <td>2-09</td>\n",
       "      <td>26.0</td>\n",
       "      <td>22.0</td>\n",
       "      <td>09-01-2017</td>\n",
       "    </tr>\n",
       "    <tr>\n",
       "      <th>21</th>\n",
       "      <td>2-10</td>\n",
       "      <td>21.5</td>\n",
       "      <td>12.0</td>\n",
       "      <td>10-01-2017</td>\n",
       "    </tr>\n",
       "    <tr>\n",
       "      <th>22</th>\n",
       "      <td>2-11</td>\n",
       "      <td>19.7</td>\n",
       "      <td>24.0</td>\n",
       "      <td>11-01-2017</td>\n",
       "    </tr>\n",
       "    <tr>\n",
       "      <th>23</th>\n",
       "      <td>2-12</td>\n",
       "      <td>19.0</td>\n",
       "      <td>3.0</td>\n",
       "      <td>12-01-2017</td>\n",
       "    </tr>\n",
       "    <tr>\n",
       "      <th>24</th>\n",
       "      <td>3-01</td>\n",
       "      <td>16.0</td>\n",
       "      <td>5.0</td>\n",
       "      <td>01-01-2018</td>\n",
       "    </tr>\n",
       "    <tr>\n",
       "      <th>25</th>\n",
       "      <td>3-02</td>\n",
       "      <td>20.7</td>\n",
       "      <td>14.0</td>\n",
       "      <td>02-01-2018</td>\n",
       "    </tr>\n",
       "    <tr>\n",
       "      <th>26</th>\n",
       "      <td>3-03</td>\n",
       "      <td>26.5</td>\n",
       "      <td>36.0</td>\n",
       "      <td>03-01-2018</td>\n",
       "    </tr>\n",
       "    <tr>\n",
       "      <th>27</th>\n",
       "      <td>3-04</td>\n",
       "      <td>30.6</td>\n",
       "      <td>40.0</td>\n",
       "      <td>04-01-2018</td>\n",
       "    </tr>\n",
       "    <tr>\n",
       "      <th>28</th>\n",
       "      <td>3-05</td>\n",
       "      <td>32.3</td>\n",
       "      <td>49.0</td>\n",
       "      <td>05-01-2018</td>\n",
       "    </tr>\n",
       "    <tr>\n",
       "      <th>29</th>\n",
       "      <td>3-06</td>\n",
       "      <td>29.5</td>\n",
       "      <td>7.0</td>\n",
       "      <td>06-01-2018</td>\n",
       "    </tr>\n",
       "    <tr>\n",
       "      <th>30</th>\n",
       "      <td>3-07</td>\n",
       "      <td>28.3</td>\n",
       "      <td>52.0</td>\n",
       "      <td>07-01-2018</td>\n",
       "    </tr>\n",
       "    <tr>\n",
       "      <th>31</th>\n",
       "      <td>3-08</td>\n",
       "      <td>31.3</td>\n",
       "      <td>65.0</td>\n",
       "      <td>08-01-2018</td>\n",
       "    </tr>\n",
       "    <tr>\n",
       "      <th>32</th>\n",
       "      <td>3-09</td>\n",
       "      <td>32.2</td>\n",
       "      <td>17.0</td>\n",
       "      <td>09-01-2018</td>\n",
       "    </tr>\n",
       "    <tr>\n",
       "      <th>33</th>\n",
       "      <td>3-10</td>\n",
       "      <td>26.4</td>\n",
       "      <td>5.0</td>\n",
       "      <td>10-01-2018</td>\n",
       "    </tr>\n",
       "    <tr>\n",
       "      <th>34</th>\n",
       "      <td>3-11</td>\n",
       "      <td>23.4</td>\n",
       "      <td>17.0</td>\n",
       "      <td>11-01-2018</td>\n",
       "    </tr>\n",
       "    <tr>\n",
       "      <th>35</th>\n",
       "      <td>3-12</td>\n",
       "      <td>16.4</td>\n",
       "      <td>1.0</td>\n",
       "      <td>12-01-2018</td>\n",
       "    </tr>\n",
       "    <tr>\n",
       "      <th>36</th>\n",
       "      <td>Advertising and sales data: 36 consecutive mon...</td>\n",
       "      <td>NaN</td>\n",
       "      <td>NaN</td>\n",
       "      <td>vertising and sales data: 36 consecutive month...</td>\n",
       "    </tr>\n",
       "  </tbody>\n",
       "</table>\n",
       "</div>"
      ],
      "text/plain": [
       "                                                Month                        ...                                                                 Month_date\n",
       "0                                                1-01                        ...                                                                 01-01-2016\n",
       "1                                                1-02                        ...                                                                 02-01-2016\n",
       "2                                                1-03                        ...                                                                 03-01-2016\n",
       "3                                                1-04                        ...                                                                 04-01-2016\n",
       "4                                                1-05                        ...                                                                 05-01-2016\n",
       "5                                                1-06                        ...                                                                 06-01-2016\n",
       "6                                                1-07                        ...                                                                 07-01-2016\n",
       "7                                                1-08                        ...                                                                 08-01-2016\n",
       "8                                                1-09                        ...                                                                 09-01-2016\n",
       "9                                                1-10                        ...                                                                 10-01-2016\n",
       "10                                               1-11                        ...                                                                 11-01-2016\n",
       "11                                               1-12                        ...                                                                 12-01-2016\n",
       "12                                               2-01                        ...                                                                 01-01-2017\n",
       "13                                               2-02                        ...                                                                 02-01-2017\n",
       "14                                               2-03                        ...                                                                 03-01-2017\n",
       "15                                               2-04                        ...                                                                 04-01-2017\n",
       "16                                               2-05                        ...                                                                 05-01-2017\n",
       "17                                               2-06                        ...                                                                 06-01-2017\n",
       "18                                               2-07                        ...                                                                 07-01-2017\n",
       "19                                               2-08                        ...                                                                 08-01-2017\n",
       "20                                               2-09                        ...                                                                 09-01-2017\n",
       "21                                               2-10                        ...                                                                 10-01-2017\n",
       "22                                               2-11                        ...                                                                 11-01-2017\n",
       "23                                               2-12                        ...                                                                 12-01-2017\n",
       "24                                               3-01                        ...                                                                 01-01-2018\n",
       "25                                               3-02                        ...                                                                 02-01-2018\n",
       "26                                               3-03                        ...                                                                 03-01-2018\n",
       "27                                               3-04                        ...                                                                 04-01-2018\n",
       "28                                               3-05                        ...                                                                 05-01-2018\n",
       "29                                               3-06                        ...                                                                 06-01-2018\n",
       "30                                               3-07                        ...                                                                 07-01-2018\n",
       "31                                               3-08                        ...                                                                 08-01-2018\n",
       "32                                               3-09                        ...                                                                 09-01-2018\n",
       "33                                               3-10                        ...                                                                 10-01-2018\n",
       "34                                               3-11                        ...                                                                 11-01-2018\n",
       "35                                               3-12                        ...                                                                 12-01-2018\n",
       "36  Advertising and sales data: 36 consecutive mon...                        ...                          vertising and sales data: 36 consecutive month...\n",
       "\n",
       "[37 rows x 4 columns]"
      ]
     },
     "execution_count": 161,
     "metadata": {},
     "output_type": "execute_result"
    }
   ],
   "source": [
    "df"
   ]
  },
  {
   "cell_type": "code",
   "execution_count": 162,
   "metadata": {},
   "outputs": [
    {
     "data": {
      "text/plain": [
       "str"
      ]
     },
     "execution_count": 162,
     "metadata": {},
     "output_type": "execute_result"
    }
   ],
   "source": [
    "type(df['Month_date'][0])"
   ]
  },
  {
   "cell_type": "code",
   "execution_count": 163,
   "metadata": {},
   "outputs": [
    {
     "data": {
      "text/plain": [
       "Index(['Month', 'Advertising', 'Conversions', 'Month_date'], dtype='object')"
      ]
     },
     "execution_count": 163,
     "metadata": {},
     "output_type": "execute_result"
    }
   ],
   "source": [
    "df.columns"
   ]
  },
  {
   "cell_type": "markdown",
   "metadata": {},
   "source": [
    "## Working with graph_objects"
   ]
  },
  {
   "cell_type": "code",
   "execution_count": 164,
   "metadata": {
    "scrolled": true
   },
   "outputs": [
    {
     "data": {
      "text/html": [
       "<iframe id=\"igraph\" scrolling=\"no\" style=\"border:none;\" seamless=\"seamless\" src=\"https://plot.ly/~kevinw.aguiar/30.embed\" height=\"525px\" width=\"100%\"></iframe>"
      ],
      "text/plain": [
       "<plotly.tools.PlotlyDisplay object>"
      ]
     },
     "execution_count": 164,
     "metadata": {},
     "output_type": "execute_result"
    }
   ],
   "source": [
    "line_graph = go.Line(x=df['Month_date'], y=df['Conversions'], marker={'color': 'blue', 'symbol': 100, 'size': 10}, \n",
    "                    mode=\"markers+lines\", name='Conversions')\n",
    "                                               \n",
    "data=go.Data([line_graph])\n",
    "layout=go.Layout(title=\"Conversions\",plot_bgcolor='black', xaxis={'title':'Month/Yr'}, yaxis={'title':'Conversions'})\n",
    "figure=go.Figure(data=data,layout=layout)\n",
    "py.iplot(figure)"
   ]
  },
  {
   "cell_type": "markdown",
   "metadata": {},
   "source": [
    "## See all themes to choose from"
   ]
  },
  {
   "cell_type": "code",
   "execution_count": 158,
   "metadata": {
    "scrolled": true
   },
   "outputs": [
    {
     "data": {
      "text/plain": [
       "['ggplot', 'pearl', 'solar', 'space', 'white', 'polar', 'henanigans']"
      ]
     },
     "execution_count": 158,
     "metadata": {},
     "output_type": "execute_result"
    }
   ],
   "source": [
    "cufflinks.getThemes()"
   ]
  },
  {
   "cell_type": "markdown",
   "metadata": {},
   "source": [
    "## Working directly through .iplot"
   ]
  },
  {
   "cell_type": "code",
   "execution_count": 171,
   "metadata": {},
   "outputs": [
    {
     "data": {
      "application/vnd.plotly.v1+json": {
       "data": [
        {
         "fill": "tozeroy",
         "fillcolor": "rgba(55, 128, 191, 0.3)",
         "line": {
          "color": "rgba(55, 128, 191, 1.0)",
          "dash": "solid",
          "shape": "linear",
          "width": 1.3
         },
         "marker": {
          "size": 6,
          "symbol": "diamond"
         },
         "mode": "lines+markers+text",
         "name": "Conversions",
         "text": "",
         "type": "scatter",
         "uid": "e2b0b557-43c5-457a-a1c8-395a9a66eeb4",
         "x": [
          "01-01-2016",
          "02-01-2016",
          "03-01-2016",
          "04-01-2016",
          "05-01-2016",
          "06-01-2016",
          "07-01-2016",
          "08-01-2016",
          "09-01-2016",
          "10-01-2016",
          "11-01-2016",
          "12-01-2016",
          "01-01-2017",
          "02-01-2017",
          "03-01-2017",
          "04-01-2017",
          "05-01-2017",
          "06-01-2017",
          "07-01-2017",
          "08-01-2017",
          "09-01-2017",
          "10-01-2017",
          "11-01-2017",
          "12-01-2017",
          "01-01-2018",
          "02-01-2018",
          "03-01-2018",
          "04-01-2018",
          "05-01-2018",
          "06-01-2018",
          "07-01-2018",
          "08-01-2018",
          "09-01-2018",
          "10-01-2018",
          "11-01-2018",
          "12-01-2018",
          "vertising and sales data: 36 consecutive monthly sales and advertising expenditures of a dietary weight control product-01-2018"
         ],
         "y": [
          15,
          16,
          18,
          27,
          21,
          49,
          21,
          22,
          28,
          36,
          40,
          3,
          21,
          29,
          62,
          65,
          46,
          44,
          33,
          62,
          22,
          12,
          24,
          3,
          5,
          14,
          36,
          40,
          49,
          7,
          52,
          65,
          17,
          5,
          17,
          1,
          ""
         ]
        },
        {
         "fill": "tozeroy",
         "fillcolor": "rgba(255, 153, 51, 0.3)",
         "line": {
          "color": "rgba(255, 153, 51, 1.0)",
          "dash": "dash",
          "shape": "linear",
          "width": 1.3
         },
         "marker": {
          "size": 6,
          "symbol": "diamond"
         },
         "mode": "lines+markers+text",
         "name": "Advertising",
         "text": "",
         "type": "scatter",
         "uid": "34c916a2-bc8d-41d2-bdf4-0f468952bf20",
         "x": [
          "01-01-2016",
          "02-01-2016",
          "03-01-2016",
          "04-01-2016",
          "05-01-2016",
          "06-01-2016",
          "07-01-2016",
          "08-01-2016",
          "09-01-2016",
          "10-01-2016",
          "11-01-2016",
          "12-01-2016",
          "01-01-2017",
          "02-01-2017",
          "03-01-2017",
          "04-01-2017",
          "05-01-2017",
          "06-01-2017",
          "07-01-2017",
          "08-01-2017",
          "09-01-2017",
          "10-01-2017",
          "11-01-2017",
          "12-01-2017",
          "01-01-2018",
          "02-01-2018",
          "03-01-2018",
          "04-01-2018",
          "05-01-2018",
          "06-01-2018",
          "07-01-2018",
          "08-01-2018",
          "09-01-2018",
          "10-01-2018",
          "11-01-2018",
          "12-01-2018",
          "vertising and sales data: 36 consecutive monthly sales and advertising expenditures of a dietary weight control product-01-2018"
         ],
         "y": [
          12,
          20.5,
          21,
          15.5,
          15.3,
          23.5,
          24.5,
          21.3,
          23.5,
          28,
          24,
          15.5,
          17.3,
          25.3,
          25,
          36.5,
          36.5,
          29.6,
          30.5,
          28,
          26,
          21.5,
          19.7,
          19,
          16,
          20.7,
          26.5,
          30.6,
          32.3,
          29.5,
          28.3,
          31.3,
          32.2,
          26.4,
          23.4,
          16.4,
          ""
         ]
        }
       ],
       "layout": {
        "legend": {
         "bgcolor": "#242424",
         "font": {
          "color": "#F4F4F4"
         }
        },
        "paper_bgcolor": "#242424",
        "plot_bgcolor": "#242424",
        "title": "Conversions vs. Advertising Spending",
        "titlefont": {
         "color": "#F4F4F4"
        },
        "xaxis": {
         "gridcolor": "#343434",
         "showgrid": true,
         "tickfont": {
          "color": "#A4A4A4"
         },
         "title": "Month",
         "titlefont": {
          "color": "#A4A4A4"
         },
         "zerolinecolor": "#444444"
        },
        "yaxis": {
         "gridcolor": "#343434",
         "showgrid": true,
         "tickfont": {
          "color": "#A4A4A4"
         },
         "title": "Conversions",
         "titlefont": {
          "color": "#A4A4A4"
         },
         "zerolinecolor": "#444444"
        }
       }
      },
      "text/html": [
       "<div id=\"ed2cf415-33da-4118-96ab-9dba0ddea167\" style=\"height: 525px; width: 100%;\" class=\"plotly-graph-div\"></div><script type=\"text/javascript\">require([\"plotly\"], function(Plotly) { window.PLOTLYENV=window.PLOTLYENV || {};window.PLOTLYENV.BASE_URL=\"https://plot.ly\";Plotly.newPlot(\"ed2cf415-33da-4118-96ab-9dba0ddea167\", [{\"fill\": \"tozeroy\", \"fillcolor\": \"rgba(55, 128, 191, 0.3)\", \"line\": {\"color\": \"rgba(55, 128, 191, 1.0)\", \"dash\": \"solid\", \"shape\": \"linear\", \"width\": 1.3}, \"marker\": {\"size\": 6, \"symbol\": \"diamond\"}, \"mode\": \"lines+markers+text\", \"name\": \"Conversions\", \"text\": \"\", \"x\": [\"01-01-2016\", \"02-01-2016\", \"03-01-2016\", \"04-01-2016\", \"05-01-2016\", \"06-01-2016\", \"07-01-2016\", \"08-01-2016\", \"09-01-2016\", \"10-01-2016\", \"11-01-2016\", \"12-01-2016\", \"01-01-2017\", \"02-01-2017\", \"03-01-2017\", \"04-01-2017\", \"05-01-2017\", \"06-01-2017\", \"07-01-2017\", \"08-01-2017\", \"09-01-2017\", \"10-01-2017\", \"11-01-2017\", \"12-01-2017\", \"01-01-2018\", \"02-01-2018\", \"03-01-2018\", \"04-01-2018\", \"05-01-2018\", \"06-01-2018\", \"07-01-2018\", \"08-01-2018\", \"09-01-2018\", \"10-01-2018\", \"11-01-2018\", \"12-01-2018\", \"vertising and sales data: 36 consecutive monthly sales and advertising expenditures of a dietary weight control product-01-2018\"], \"y\": [15.0, 16.0, 18.0, 27.0, 21.0, 49.0, 21.0, 22.0, 28.0, 36.0, 40.0, 3.0, 21.0, 29.0, 62.0, 65.0, 46.0, 44.0, 33.0, 62.0, 22.0, 12.0, 24.0, 3.0, 5.0, 14.0, 36.0, 40.0, 49.0, 7.0, 52.0, 65.0, 17.0, 5.0, 17.0, 1.0, \"\"], \"type\": \"scatter\", \"uid\": \"cb234e8b-d305-450e-80af-b5c5cbe556e6\"}, {\"fill\": \"tozeroy\", \"fillcolor\": \"rgba(255, 153, 51, 0.3)\", \"line\": {\"color\": \"rgba(255, 153, 51, 1.0)\", \"dash\": \"dash\", \"shape\": \"linear\", \"width\": 1.3}, \"marker\": {\"size\": 6, \"symbol\": \"diamond\"}, \"mode\": \"lines+markers+text\", \"name\": \"Advertising\", \"text\": \"\", \"x\": [\"01-01-2016\", \"02-01-2016\", \"03-01-2016\", \"04-01-2016\", \"05-01-2016\", \"06-01-2016\", \"07-01-2016\", \"08-01-2016\", \"09-01-2016\", \"10-01-2016\", \"11-01-2016\", \"12-01-2016\", \"01-01-2017\", \"02-01-2017\", \"03-01-2017\", \"04-01-2017\", \"05-01-2017\", \"06-01-2017\", \"07-01-2017\", \"08-01-2017\", \"09-01-2017\", \"10-01-2017\", \"11-01-2017\", \"12-01-2017\", \"01-01-2018\", \"02-01-2018\", \"03-01-2018\", \"04-01-2018\", \"05-01-2018\", \"06-01-2018\", \"07-01-2018\", \"08-01-2018\", \"09-01-2018\", \"10-01-2018\", \"11-01-2018\", \"12-01-2018\", \"vertising and sales data: 36 consecutive monthly sales and advertising expenditures of a dietary weight control product-01-2018\"], \"y\": [12.0, 20.5, 21.0, 15.5, 15.3, 23.5, 24.5, 21.3, 23.5, 28.0, 24.0, 15.5, 17.3, 25.3, 25.0, 36.5, 36.5, 29.6, 30.5, 28.0, 26.0, 21.5, 19.7, 19.0, 16.0, 20.7, 26.5, 30.6, 32.3, 29.5, 28.3, 31.3, 32.2, 26.4, 23.4, 16.4, \"\"], \"type\": \"scatter\", \"uid\": \"b0566a05-4b72-4176-9c9c-df78bd1e62bc\"}], {\"legend\": {\"bgcolor\": \"#242424\", \"font\": {\"color\": \"#F4F4F4\"}}, \"paper_bgcolor\": \"#242424\", \"plot_bgcolor\": \"#242424\", \"title\": \"Conversions vs. Advertising Spending\", \"titlefont\": {\"color\": \"#F4F4F4\"}, \"xaxis\": {\"gridcolor\": \"#343434\", \"showgrid\": true, \"tickfont\": {\"color\": \"#A4A4A4\"}, \"title\": \"Month\", \"titlefont\": {\"color\": \"#A4A4A4\"}, \"zerolinecolor\": \"#444444\"}, \"yaxis\": {\"gridcolor\": \"#343434\", \"showgrid\": true, \"tickfont\": {\"color\": \"#A4A4A4\"}, \"title\": \"Conversions\", \"titlefont\": {\"color\": \"#A4A4A4\"}, \"zerolinecolor\": \"#444444\"}}, {\"showLink\": true, \"linkText\": \"Export to plot.ly\"})});</script><script type=\"text/javascript\">window.addEventListener(\"resize\", function(){window._Plotly.Plots.resize(document.getElementById(\"ed2cf415-33da-4118-96ab-9dba0ddea167\"));});</script>"
      ],
      "text/vnd.plotly.v1+html": [
       "<div id=\"ed2cf415-33da-4118-96ab-9dba0ddea167\" style=\"height: 525px; width: 100%;\" class=\"plotly-graph-div\"></div><script type=\"text/javascript\">require([\"plotly\"], function(Plotly) { window.PLOTLYENV=window.PLOTLYENV || {};window.PLOTLYENV.BASE_URL=\"https://plot.ly\";Plotly.newPlot(\"ed2cf415-33da-4118-96ab-9dba0ddea167\", [{\"fill\": \"tozeroy\", \"fillcolor\": \"rgba(55, 128, 191, 0.3)\", \"line\": {\"color\": \"rgba(55, 128, 191, 1.0)\", \"dash\": \"solid\", \"shape\": \"linear\", \"width\": 1.3}, \"marker\": {\"size\": 6, \"symbol\": \"diamond\"}, \"mode\": \"lines+markers+text\", \"name\": \"Conversions\", \"text\": \"\", \"x\": [\"01-01-2016\", \"02-01-2016\", \"03-01-2016\", \"04-01-2016\", \"05-01-2016\", \"06-01-2016\", \"07-01-2016\", \"08-01-2016\", \"09-01-2016\", \"10-01-2016\", \"11-01-2016\", \"12-01-2016\", \"01-01-2017\", \"02-01-2017\", \"03-01-2017\", \"04-01-2017\", \"05-01-2017\", \"06-01-2017\", \"07-01-2017\", \"08-01-2017\", \"09-01-2017\", \"10-01-2017\", \"11-01-2017\", \"12-01-2017\", \"01-01-2018\", \"02-01-2018\", \"03-01-2018\", \"04-01-2018\", \"05-01-2018\", \"06-01-2018\", \"07-01-2018\", \"08-01-2018\", \"09-01-2018\", \"10-01-2018\", \"11-01-2018\", \"12-01-2018\", \"vertising and sales data: 36 consecutive monthly sales and advertising expenditures of a dietary weight control product-01-2018\"], \"y\": [15.0, 16.0, 18.0, 27.0, 21.0, 49.0, 21.0, 22.0, 28.0, 36.0, 40.0, 3.0, 21.0, 29.0, 62.0, 65.0, 46.0, 44.0, 33.0, 62.0, 22.0, 12.0, 24.0, 3.0, 5.0, 14.0, 36.0, 40.0, 49.0, 7.0, 52.0, 65.0, 17.0, 5.0, 17.0, 1.0, \"\"], \"type\": \"scatter\", \"uid\": \"cb234e8b-d305-450e-80af-b5c5cbe556e6\"}, {\"fill\": \"tozeroy\", \"fillcolor\": \"rgba(255, 153, 51, 0.3)\", \"line\": {\"color\": \"rgba(255, 153, 51, 1.0)\", \"dash\": \"dash\", \"shape\": \"linear\", \"width\": 1.3}, \"marker\": {\"size\": 6, \"symbol\": \"diamond\"}, \"mode\": \"lines+markers+text\", \"name\": \"Advertising\", \"text\": \"\", \"x\": [\"01-01-2016\", \"02-01-2016\", \"03-01-2016\", \"04-01-2016\", \"05-01-2016\", \"06-01-2016\", \"07-01-2016\", \"08-01-2016\", \"09-01-2016\", \"10-01-2016\", \"11-01-2016\", \"12-01-2016\", \"01-01-2017\", \"02-01-2017\", \"03-01-2017\", \"04-01-2017\", \"05-01-2017\", \"06-01-2017\", \"07-01-2017\", \"08-01-2017\", \"09-01-2017\", \"10-01-2017\", \"11-01-2017\", \"12-01-2017\", \"01-01-2018\", \"02-01-2018\", \"03-01-2018\", \"04-01-2018\", \"05-01-2018\", \"06-01-2018\", \"07-01-2018\", \"08-01-2018\", \"09-01-2018\", \"10-01-2018\", \"11-01-2018\", \"12-01-2018\", \"vertising and sales data: 36 consecutive monthly sales and advertising expenditures of a dietary weight control product-01-2018\"], \"y\": [12.0, 20.5, 21.0, 15.5, 15.3, 23.5, 24.5, 21.3, 23.5, 28.0, 24.0, 15.5, 17.3, 25.3, 25.0, 36.5, 36.5, 29.6, 30.5, 28.0, 26.0, 21.5, 19.7, 19.0, 16.0, 20.7, 26.5, 30.6, 32.3, 29.5, 28.3, 31.3, 32.2, 26.4, 23.4, 16.4, \"\"], \"type\": \"scatter\", \"uid\": \"b0566a05-4b72-4176-9c9c-df78bd1e62bc\"}], {\"legend\": {\"bgcolor\": \"#242424\", \"font\": {\"color\": \"#F4F4F4\"}}, \"paper_bgcolor\": \"#242424\", \"plot_bgcolor\": \"#242424\", \"title\": \"Conversions vs. Advertising Spending\", \"titlefont\": {\"color\": \"#F4F4F4\"}, \"xaxis\": {\"gridcolor\": \"#343434\", \"showgrid\": true, \"tickfont\": {\"color\": \"#A4A4A4\"}, \"title\": \"Month\", \"titlefont\": {\"color\": \"#A4A4A4\"}, \"zerolinecolor\": \"#444444\"}, \"yaxis\": {\"gridcolor\": \"#343434\", \"showgrid\": true, \"tickfont\": {\"color\": \"#A4A4A4\"}, \"title\": \"Conversions\", \"titlefont\": {\"color\": \"#A4A4A4\"}, \"zerolinecolor\": \"#444444\"}}, {\"showLink\": true, \"linkText\": \"Export to plot.ly\"})});</script><script type=\"text/javascript\">window.addEventListener(\"resize\", function(){window._Plotly.Plots.resize(document.getElementById(\"ed2cf415-33da-4118-96ab-9dba0ddea167\"));});</script>"
      ]
     },
     "metadata": {},
     "output_type": "display_data"
    }
   ],
   "source": [
    "df[['Conversions', 'Advertising', 'Month_date']].iplot(kind   ='line',\n",
    "                                                       x      ='Month_date',\n",
    "                                                       keys   =['Conversions', 'Advertising'],\n",
    "                                                       title  ='Conversions vs. Advertising Spending',\n",
    "                                                       xTitle ='Month',\n",
    "                                                       yTitle ='Conversions',\n",
    "                                                       dash   =['solid','dash'],\n",
    "                                                       colors =['blue', 'orange'],\n",
    "                                                       theme  ='henanigans',\n",
    "                                                       mode   ='lines+markers+text',\n",
    "                                                       symbol ='diamond',\n",
    "                                                       size   =6,\n",
    "                                                       fill   =True)"
   ]
  },
  {
   "cell_type": "code",
   "execution_count": null,
   "metadata": {},
   "outputs": [],
   "source": []
  }
 ],
 "metadata": {
  "kernelspec": {
   "display_name": "Python 3",
   "language": "python",
   "name": "python3"
  },
  "language_info": {
   "codemirror_mode": {
    "name": "ipython",
    "version": 3
   },
   "file_extension": ".py",
   "mimetype": "text/x-python",
   "name": "python",
   "nbconvert_exporter": "python",
   "pygments_lexer": "ipython3",
   "version": "3.6.5"
  }
 },
 "nbformat": 4,
 "nbformat_minor": 2
}
